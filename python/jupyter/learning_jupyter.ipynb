{
 "cells": [
  {
   "cell_type": "code",
   "execution_count": null,
   "metadata": {},
   "outputs": [],
   "source": [
    "print('Hello Jupyter!')"
   ]
  },
  {
   "cell_type": "markdown",
   "metadata": {},
   "source": [
    "Some nifty text can go here in **Markdown format**!\n",
    "\n",
    "A bulleted list:\n",
    "* Item 1\n",
    "* Item 2\n",
    "* Item 3\n",
    "    * A side point\n",
    "\n"
   ]
  },
  {
   "cell_type": "code",
   "execution_count": 2,
   "metadata": {},
   "outputs": [
    {
     "name": "stdout",
     "output_type": "stream",
     "text": [
      "0 is a nifty number\n",
      "1 is a nifty number\n",
      "2 is a nifty number\n",
      "3 is a nifty number\n",
      "4 is a nifty number\n",
      "5 is a nifty number\n",
      "6 is a nifty number\n",
      "7 is a nifty number\n",
      "8 is a nifty number\n",
      "9 is a nifty number\n"
     ]
    }
   ],
   "source": [
    "for x in range(10):\n",
    "    print('{} is a nifty number'.format(x))\n"
   ]
  }
 ],
 "metadata": {
  "kernelspec": {
   "display_name": "Python 3",
   "language": "python",
   "name": "python3"
  },
  "language_info": {
   "codemirror_mode": {
    "name": "ipython",
    "version": 3
   },
   "file_extension": ".py",
   "mimetype": "text/x-python",
   "name": "python",
   "nbconvert_exporter": "python",
   "pygments_lexer": "ipython3",
   "version": "3.8.1"
  }
 },
 "nbformat": 4,
 "nbformat_minor": 2
}
